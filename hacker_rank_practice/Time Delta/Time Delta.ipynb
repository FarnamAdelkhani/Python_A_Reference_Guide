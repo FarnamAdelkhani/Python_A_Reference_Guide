{
 "cells": [
  {
   "cell_type": "code",
   "execution_count": null,
   "metadata": {},
   "outputs": [],
   "source": []
  },
  {
   "cell_type": "code",
   "execution_count": null,
   "metadata": {},
   "outputs": [],
   "source": [
    "# Method to split list by k\n",
    "def split_by_k(string, k):\n",
    "    splitList = []\n",
    "    # xrange preferred \n",
    "    for i in range(len(string)/k):\n",
    "        splitList.append(string[i*k:(i+1)*k])\n",
    "    return splitList\n",
    "\n",
    "def remove_repetitive(s):\n",
    "    dic = {}\n",
    "    new = []\n",
    "    for j in string:\n",
    "        if j not in dic:\n",
    "            res.append(j)\n",
    "            d[j]=1\n",
    "    return ''.join(new)\n",
    "\n",
    "def merge_the_tools(string, k):\n",
    "    output = split_by_k(string, k)\n",
    "    for l in output:\n",
    "        print (remove_repetitive(l))\n",
    "    \n",
    "\n",
    "if __name__ == '__main__':\n",
    "    string, k = input(), int(input())\n",
    "    merge_the_tools(string, k)"
   ]
  }
 ],
 "metadata": {
  "kernelspec": {
   "display_name": "Python 3",
   "language": "python",
   "name": "python3"
  },
  "language_info": {
   "codemirror_mode": {
    "name": "ipython",
    "version": 3
   },
   "file_extension": ".py",
   "mimetype": "text/x-python",
   "name": "python",
   "nbconvert_exporter": "python",
   "pygments_lexer": "ipython3",
   "version": "3.7.1"
  }
 },
 "nbformat": 4,
 "nbformat_minor": 2
}
