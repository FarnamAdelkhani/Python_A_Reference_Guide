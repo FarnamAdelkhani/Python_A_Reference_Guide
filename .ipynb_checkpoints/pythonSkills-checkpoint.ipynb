{
 "cells": [
  {
   "cell_type": "markdown",
   "metadata": {},
   "source": [
    "<h2 align=\"center\"><b>Reference Guide for Useful Python Tips</b></h2> \n",
    "<img src=\"pythonLogo.png\" alt=\"Drawing\" style=\"width: 60px;\"/>\n",
    "\n",
    "***  "
   ]
  },
  {
   "cell_type": "markdown",
   "metadata": {},
   "source": [
    "<center>Last update: March 2019<br>\n",
    "These tips are mostly compiled from talks by Python Core Developer, Raymond Hettinger.</center>"
   ]
  },
  {
   "cell_type": "markdown",
   "metadata": {},
   "source": [
    "<div class=\"alert alert-block alert-info\">\n",
    "Created by: Farnam Adelkhani\n",
    "</div>"
   ]
  },
  {
   "cell_type": "code",
   "execution_count": null,
   "metadata": {},
   "outputs": [],
   "source": [
    "# Variables\n",
    "x = 54"
   ]
  },
  {
   "cell_type": "markdown",
   "metadata": {},
   "source": [
    "### Declaring a string:"
   ]
  },
  {
   "cell_type": "code",
   "execution_count": null,
   "metadata": {},
   "outputs": [],
   "source": [
    "phrase = \"Hello, world\"\n",
    "# or just use '_'\n",
    "phrase = 'Hello, world'"
   ]
  },
  {
   "cell_type": "markdown",
   "metadata": {},
   "source": [
    "### Conditional Statements:"
   ]
  },
  {
   "cell_type": "code",
   "execution_count": null,
   "metadata": {},
   "outputs": [],
   "source": [
    "# Can use the word \"or\", instead of || in C\n",
    "if y < 55 or z == 44:\n",
    "    # code goes here"
   ]
  },
  {
   "cell_type": "code",
   "execution_count": null,
   "metadata": {},
   "outputs": [],
   "source": [
    "# if-else\n",
    "if y < 55 and z == 44:\n",
    "    # code block 1\n",
    "else:\n",
    "    # code block 2"
   ]
  },
  {
   "cell_type": "code",
   "execution_count": null,
   "metadata": {},
   "outputs": [],
   "source": [
    "# if-elif\n",
    "if course == 100:\n",
    "    # code block 1\n",
    "elif not course == 101:\n",
    "    # code block 2"
   ]
  },
  {
   "cell_type": "code",
   "execution_count": null,
   "metadata": {
    "collapsed": true
   },
   "outputs": [],
   "source": [
    "# Conditions -- If input is alpha then true\n",
    "# Use input() to take input from the user\n",
    "letters_only = true if input().isalpha() else False"
   ]
  },
  {
   "cell_type": "markdown",
   "metadata": {},
   "source": [
    "### Loops -- Printout 1 line at a time 0-100:"
   ]
  },
  {
   "cell_type": "code",
   "execution_count": null,
   "metadata": {},
   "outputs": [],
   "source": [
    "counter = 0\n",
    "while counter < 100:\n",
    "    print(counter)\n",
    "    counter += 1"
   ]
  },
  {
   "cell_type": "markdown",
   "metadata": {},
   "source": [
    "#### Counting:\n",
    "##### Remember: With python 3, xrange is no longer utilized:"
   ]
  },
  {
   "cell_type": "code",
   "execution_count": null,
   "metadata": {},
   "outputs": [],
   "source": [
    "# Loop to range 100\n",
    "for x in range(100):\n",
    "    print(x)"
   ]
  },
  {
   "cell_type": "code",
   "execution_count": null,
   "metadata": {},
   "outputs": [],
   "source": [
    "# For Loop -- count by 10s\n",
    "for x in range(0, 100, 10):\n",
    "    print(x)"
   ]
  },
  {
   "cell_type": "markdown",
   "metadata": {},
   "source": [
    "[]: Used to define mutable data types - lists, list comprehensions and for indexing/lookup/slicing.<br>\n",
    "(): Define tuples, order of operations, generator expressions, function calls and other syntax.<br>\n",
    "{}: The two hash table types - dictionaries and sets."
   ]
  },
  {
   "cell_type": "markdown",
   "metadata": {},
   "source": [
    "### Lists:"
   ]
  },
  {
   "cell_type": "code",
   "execution_count": null,
   "metadata": {},
   "outputs": [],
   "source": [
    "# Arrays -- not fixed in size, can add, splice\n",
    "# Lists -- Let's call Arrays, lists now\n",
    "nums = []\n",
    "nums = [1, 2, 3 ,4]"
   ]
  },
  {
   "cell_type": "code",
   "execution_count": 1,
   "metadata": {},
   "outputs": [],
   "source": [
    "# List comprehension -- 0-499\n",
    "nums = [x for x in range(500)]\n",
    "nums = list()"
   ]
  },
  {
   "cell_type": "code",
   "execution_count": null,
   "metadata": {},
   "outputs": [],
   "source": [
    "# List appending\n",
    "nums = [1, 2, 3 ,4]\n",
    "\n",
    "# These three lines all do the same thing ... put a 5 at the end of the array\n",
    "nums.append(5)\n",
    "nums.insert(4, 5)\n",
    "# attach a list to the end of a list\n",
    "nums[len(nums):] = [5]"
   ]
  },
  {
   "cell_type": "markdown",
   "metadata": {},
   "source": [
    "### Tuple Data type -- ordered and immutable set of data:"
   ]
  },
  {
   "cell_type": "code",
   "execution_count": null,
   "metadata": {},
   "outputs": [],
   "source": [
    "# Analogous to structs in C\n",
    "\n",
    "# Here is a list with 4 tuples:\n",
    "presidents = [\n",
    "    (\"George\", 1789),\n",
    "    (\"John\", 1789),\n",
    "    (\"Jason\", 1789),\n",
    "    (\"Thomas\", 1789),\n",
    "]\n",
    "\n",
    "# How to iterate this list:\n",
    "for prez, year in presidents:\n",
    "    print(\"In {1}, {0} took office\".format(prez, year))"
   ]
  },
  {
   "cell_type": "markdown",
   "metadata": {},
   "source": [
    "### Dictionaries:"
   ]
  },
  {
   "cell_type": "code",
   "execution_count": null,
   "metadata": {},
   "outputs": [],
   "source": [
    "pizzas = {\n",
    "    \"Pepperoni\": 9,\n",
    "    \"Cheese\": 10,\n",
    "    \"Veggy\": 11,\n",
    "    \"Buffalo Chicken\": 12,\n",
    "}\n",
    "\n",
    "# Add or change\n",
    "pizzas[\"Cheese\"] = 15\n",
    "\n",
    "# Conditions\n",
    "if pizzas[\"vegetables\"] < 20:\n",
    "    # ...do something"
   ]
  },
  {
   "cell_type": "code",
   "execution_count": null,
   "metadata": {},
   "outputs": [],
   "source": [
    "for pie in pizzas:\n",
    "    print(pie)\n",
    "\n",
    "# .items is transforming into a list \n",
    "# ... which creates order problems\n",
    "for pie, price in pizzas.items():\n",
    "    print(price)\n",
    "    \n",
    "for pie, price in pizzas.items():\n",
    "    print(\"A whole {} pizza costs ${}\".format(pie, price))"
   ]
  },
  {
   "cell_type": "markdown",
   "metadata": {},
   "source": [
    "### Functions:  \n",
    "No need to specify the return or data types.<br>\n",
    "Use \"def\" to introduce the function."
   ]
  },
  {
   "cell_type": "code",
   "execution_count": null,
   "metadata": {},
   "outputs": [],
   "source": [
    "# To direct your program to start at the main function\n",
    "if __name__ == \"__main__\":\n",
    "    main()"
   ]
  },
  {
   "cell_type": "code",
   "execution_count": null,
   "metadata": {},
   "outputs": [],
   "source": [
    "# Define a function:\n",
    "def square(x):\n",
    "    return x * x\n",
    "\n",
    "# This is x squared:\n",
    "def square(x):\n",
    "    return x ** x"
   ]
  },
  {
   "cell_type": "markdown",
   "metadata": {},
   "source": [
    "### Objects:"
   ]
  },
  {
   "cell_type": "code",
   "execution_count": null,
   "metadata": {},
   "outputs": [],
   "source": [
    "# Method is another word for function\n",
    "object.method()"
   ]
  },
  {
   "cell_type": "code",
   "execution_count": null,
   "metadata": {},
   "outputs": [],
   "source": [
    "class Teams():\n",
    "    def __init__(name, city, region):\n",
    "        name.city = city\n",
    "        name.region = region\n",
    "        \n",
    "    def changeID(city, region):\n",
    "        city.region = region\n",
    "        \n",
    "    def print(name):\n",
    "        print(\"{} - {}\".format(name.city, name.region))"
   ]
  },
  {
   "cell_type": "code",
   "execution_count": null,
   "metadata": {},
   "outputs": [],
   "source": [
    "'''\n",
    "The code below allows us to write variables into your operating system as environment variables\n",
    "where your os will then safely store them away for later use/reference in your code.\n",
    "\n",
    "The open function opens a file and gives you a file object used to access the file's contents \n",
    "according to the specified modes.\n",
    "The \"w\" mode supplied in your example opens a file for reading, discarding any data previously \n",
    "in that file.\n",
    "'''\n",
    "\n",
    "fptr = open(os.environ['OUTPUT_PATH'], 'w')"
   ]
  },
  {
   "cell_type": "markdown",
   "metadata": {},
   "source": [
    "## Looping:"
   ]
  },
  {
   "cell_type": "markdown",
   "metadata": {},
   "source": [
    "#### Looping over a collection:"
   ]
  },
  {
   "cell_type": "code",
   "execution_count": null,
   "metadata": {},
   "outputs": [],
   "source": [
    "colors =['red', 'green', 'blue', 'yellow']\n",
    "\n",
    "# Don't do this!\n",
    "for i in range(len(colors)):\n",
    "    print colors[i]\n",
    "    \n",
    "# Do this instead\n",
    "# Simpler, easier to read, and in Python this is faster.\n",
    "for color in colors:\n",
    "    print color"
   ]
  },
  {
   "cell_type": "markdown",
   "metadata": {},
   "source": [
    "#### Looping backwards:"
   ]
  },
  {
   "cell_type": "code",
   "execution_count": null,
   "metadata": {},
   "outputs": [],
   "source": [
    "colors =['red', 'green', 'blue', 'yellow']\n",
    "\n",
    "# In C, we might do this:\n",
    "for i in range(len(colors)-1, -1, -1):\n",
    "    print colors[i]\n",
    " \n",
    "# Do this instead, this is faster:\n",
    "for color in reversed(colors):\n",
    "    print color\n",
    "    \n",
    "# Think about 'for' in Python as 'for each'"
   ]
  },
  {
   "cell_type": "markdown",
   "metadata": {},
   "source": [
    "#### Looping over a collection and indicies:"
   ]
  },
  {
   "cell_type": "code",
   "execution_count": null,
   "metadata": {},
   "outputs": [],
   "source": [
    "colors =['red', 'green', 'blue', 'yellow']\n",
    "\n",
    "# In C, we might do this:\n",
    "for i in range(len(colors)):\n",
    "    print i, '-->', colors[i]\n",
    " \n",
    "# Do this instead, without indices:\n",
    "# No need to track indicidual indices\n",
    "for i, color in enumerate(colors):\n",
    "    print i, \"-->\", colors[i]\n",
    "    \n",
    "# Think about 'for' in Python as 'for each'"
   ]
  },
  {
   "cell_type": "markdown",
   "metadata": {},
   "source": [
    "#### Looping over two collections at once:"
   ]
  },
  {
   "cell_type": "code",
   "execution_count": null,
   "metadata": {},
   "outputs": [],
   "source": [
    "# Take shorter list and look up ith name in ith color\n",
    "names = ['raymond', 'rachel', 'matthew']\n",
    "colors = ['red', 'green', 'blue', 'yellow']\n",
    "\n",
    "# In C, we might do this:\n",
    "n = min(len(names), len(colors))\n",
    "for i in range(n):\n",
    "    print names[i], '-->', colors[i]\n",
    "\n",
    "# Do this instead, without indices:\n",
    "# This is better but it takes more memory because creates a seperate list of tuples\n",
    "#\n",
    "# PROBLEM HERE: cacheing to a seperate list requires a ton of memory, this isn't good...\n",
    "for name, color in zip(names, colors):\n",
    "    print name, '-->', color\n",
    "    \n",
    "# This is even better!!\n",
    "for name, color in izip(names, colors):\n",
    "    print name, '-->', color"
   ]
  },
  {
   "cell_type": "markdown",
   "metadata": {},
   "source": [
    "#### Looping in sorted order:"
   ]
  },
  {
   "cell_type": "code",
   "execution_count": null,
   "metadata": {},
   "outputs": [],
   "source": [
    "colors =['red', 'green', 'blue', 'yellow']\n",
    "\n",
    "# Loop forward\n",
    "for color in sorted(colors):\n",
    "    print color\n",
    "\n",
    "# Loop backward\n",
    "for color in sorted(colors, reverse=True):\n",
    "    print color"
   ]
  },
  {
   "cell_type": "markdown",
   "metadata": {},
   "source": [
    "***"
   ]
  },
  {
   "cell_type": "markdown",
   "metadata": {},
   "source": [
    "#### Custom sort order:"
   ]
  },
  {
   "cell_type": "code",
   "execution_count": null,
   "metadata": {},
   "outputs": [],
   "source": [
    "colors =['red', 'green', 'blue', 'yellow']\n",
    "\n",
    "# Custom comparison function\n",
    "# Calling this function each time is not good, it's slow\n",
    "def compare_length(c1, c2):\n",
    "    if len(c1) < len(c2): return -1\n",
    "    if len(c1) > len(c2): return 1\n",
    "    return 0\n",
    "print sorted(colors, cmp=compare_length)\n",
    "\n",
    "\n",
    "# Here is a better way:\n",
    "# Comparison functions are no longer in Python 3\n",
    "print sorted(colors, key=len)"
   ]
  },
  {
   "cell_type": "markdown",
   "metadata": {},
   "source": [
    "#### Call a function until a sentinel value:"
   ]
  },
  {
   "cell_type": "code",
   "execution_count": null,
   "metadata": {},
   "outputs": [],
   "source": [
    "# First method\n",
    "blocks = []\n",
    "while true:\n",
    "    # Read memory block of 32 bytes at a time:\n",
    "    block = f.read(32)\n",
    "    # Eventually you will run out of data and when you do, you return a sentinel value, an empty string.\n",
    "    if block == '':\n",
    "        # @ empty string, break out.\n",
    "        break\n",
    "    blocks.append(block)\n",
    "\n",
    "# Make it iterable instead, then you can feed it to other functions in Python tool kit.\n",
    "# For 'iter' the first function must be a func of 1 arguments\n",
    "blocks = []\n",
    "for block in iter(partial(f.read, 32), ''):\n",
    "    blocks.append(block)\n",
    "\n",
    "# We no longer use break functions and NULL because sometimes we include these values into our strings.\n",
    "# Recall the story of the program that broke from scanning punchcards at the capitol of equador which beggins with 'quit..'"
   ]
  },
  {
   "cell_type": "markdown",
   "metadata": {},
   "source": [
    "#### Distringuishing multiple exit points in loops:"
   ]
  },
  {
   "cell_type": "code",
   "execution_count": null,
   "metadata": {},
   "outputs": [],
   "source": [
    "# Flag variables, like found = false\n",
    "# This slows your program down!\n",
    "def find(seq, target):\n",
    "    found = false\n",
    "    for i, value in enumerate(seq):\n",
    "        if value == tgt:\n",
    "            found = True\n",
    "            break\n",
    "        if not found:\n",
    "            return -1\n",
    "        return i\n",
    "    \n",
    "# This is a better way of doing it...\n",
    "# 'for' loops have 'else'\n",
    "def find(seq, target):\n",
    "    for i, value in enumerate(seq):\n",
    "        if value == tgt:\n",
    "            break\n",
    "    # Call else: 'no break', you'd know what it did.\n",
    "    else:\n",
    "        return -1\n",
    "    return i"
   ]
  },
  {
   "cell_type": "markdown",
   "metadata": {},
   "source": [
    "***"
   ]
  },
  {
   "cell_type": "markdown",
   "metadata": {},
   "source": [
    "### Dictionary Skills:\n",
    "Fundamental tool for expressing relationships, linking, counting, and grouping."
   ]
  },
  {
   "cell_type": "code",
   "execution_count": null,
   "metadata": {},
   "outputs": [],
   "source": [
    "# Looping of dictionary keys\n",
    "\n",
    "d = {'matthew:': 'blue', 'rachel': 'green', 'raymond': 'red'}\n",
    "\n",
    "for k in d:\n",
    "    print k\n",
    "    \n",
    "# Another way... \n",
    "# Do this when mutating out the dictionary... because you cant mutate while iterating through it.\n",
    "for k in d.keys():\n",
    "    if k.startswith('r'):\n",
    "        del d[k]"
   ]
  },
  {
   "cell_type": "code",
   "execution_count": null,
   "metadata": {},
   "outputs": [],
   "source": [
    "# Looping over a dictionary keys and values\n",
    "\n",
    "# Loop over key and look up value\n",
    "# slow: rehash every key and do a look up on it.\n",
    "for k in d:\n",
    "    print k, '-->', d[k]\n",
    "\n",
    "# Better way if you need items\n",
    "for k, v in d.items():\n",
    "    print k, '-->', v\n",
    "    \n",
    "# Best way\n",
    "for k, v in d.iteritems():\n",
    "    print k, '-->', v"
   ]
  },
  {
   "cell_type": "code",
   "execution_count": null,
   "metadata": {},
   "outputs": [],
   "source": [
    "# Constructing a dictionary from pairs\n",
    "\n",
    "names = ['raymond', 'rachel', 'matthew']\n",
    "colors = ['red', 'green', 'blue']\n",
    "\n",
    "# Assemble these two lists into a dictionary: use izip\n",
    "# Does not need to make a tuple at each iteration... uses one tuple over and over again. This is fast.\n",
    "d = dict(izip(names, colors))\n",
    "{'matthew': 'blue', 'rachel': 'green', 'raymond': 'red'}"
   ]
  },
  {
   "cell_type": "code",
   "execution_count": null,
   "metadata": {
    "collapsed": true
   },
   "outputs": [],
   "source": [
    "# Counting with dictionaries\n",
    "\n",
    "colors = ['red', 'green', 'blue', 'red', 'green', 'blue']\n",
    "\n",
    "# loop over the colors, check if the color is there, if it is not then add it.\n",
    "d = {}\n",
    "for colors in colors:\n",
    "    if color not in d:\n",
    "        d[color] = 0\n",
    "    d[color] += 1\n",
    "    \n",
    "{'blue':1, 'green': 2, 'red': 3}\n",
    "\n",
    "# Simplify the code above to this:\n",
    "# Get the color, if color is missing, return 0 and add 1 to it\n",
    "d = {}\n",
    "for color in colors:\n",
    "    d[color] = d.get(color, 0) + 1\n",
    "\n",
    "# A more modern way ... not good for beginners with limited understanding.\n",
    "d = defaultdict(int)\n",
    "for color in colors:\n",
    "    d[color] += 1"
   ]
  },
  {
   "cell_type": "code",
   "execution_count": null,
   "metadata": {},
   "outputs": [],
   "source": [
    "# Grouping with dictionaries\n",
    "\n",
    "names = ['raymond', 'rachel', 'matthew' 'Roger', 'Charlie', 'katie' 'raj', 'zhang', 'ping']\n",
    "\n",
    "# Traditional way, start with empty dictionary, the key is what we are grouping by.\n",
    "d = {}\n",
    "for name in names:\n",
    "    key = len(name)\n",
    "    if key not in d:\n",
    "        d[key] = []\n",
    "    d[key].append(name)\n",
    "    \n",
    "# Better way...\n",
    "d = {}\n",
    "for name in names:\n",
    "    key = len(name)\n",
    "    d.setdefault(key, []).append(name)\n",
    "    \n",
    "# Modern way... Do this!\n",
    "d = defaultdict(list)\n",
    "for name in names:\n",
    "    key = len(name)\n",
    "    d[key].append(name)"
   ]
  },
  {
   "cell_type": "code",
   "execution_count": null,
   "metadata": {},
   "outputs": [],
   "source": [
    "# Is a dictionary popitem() atomic?\n",
    "\n",
    "d = ['raymond': 'blue', 'rachel': 'red', 'matthew': 'pink']\n",
    "\n",
    "while d:\n",
    "    key, value = d.popitem()\n",
    "    print key, '-->', value"
   ]
  },
  {
   "cell_type": "markdown",
   "metadata": {},
   "source": [
    "***"
   ]
  },
  {
   "cell_type": "markdown",
   "metadata": {},
   "source": [
    "### Clarify function calls with keyword arguments:"
   ]
  },
  {
   "cell_type": "code",
   "execution_count": null,
   "metadata": {},
   "outputs": [],
   "source": [
    "# What does False and true mean?\n",
    "twitter_search('@obama', False, 20, True)\n",
    "\n",
    "# Use keyword arguements... slows by microseconds but saves hours of programmer time.\n",
    "# Easy way to improve code quality\n",
    "twitter_search('@obama', retweets=False, numtweets=20, popular=True)"
   ]
  },
  {
   "cell_type": "markdown",
   "metadata": {},
   "source": [
    "### Clarify multiple return values with named tuples:"
   ]
  },
  {
   "cell_type": "code",
   "execution_count": null,
   "metadata": {},
   "outputs": [],
   "source": [
    "# What does this mean?\n",
    "doctest.testmod()\n",
    "(0, 4)\n",
    "\n",
    "# This provides clarity... named tuples are the same so this code runs the same as above.\n",
    "# Improve your code base like this!\n",
    "doctest.testmod()\n",
    "TestResults(failed=0, attempted=4)\n",
    "\n",
    "TestResults = namedtuple('TestResults', ['failed', 'attempted'])"
   ]
  },
  {
   "cell_type": "markdown",
   "metadata": {},
   "source": [
    "### Unpacking sequences:"
   ]
  },
  {
   "cell_type": "code",
   "execution_count": null,
   "metadata": {},
   "outputs": [],
   "source": [
    "p = 'Raymond', 'Hettinger', 0x30, 'python@example.com'\n",
    "\n",
    "# Instead of this...\n",
    "fname = p[0]\n",
    "lname = p[1]\n",
    "age = p[2]\n",
    "email = p[3]\n",
    "\n",
    "# Do this instead!\n",
    "fname, lname, age, email = p"
   ]
  },
  {
   "cell_type": "markdown",
   "metadata": {},
   "source": [
    "### Updating multiple/simultaneous state variables:"
   ]
  },
  {
   "cell_type": "code",
   "execution_count": null,
   "metadata": {},
   "outputs": [],
   "source": [
    "# take a temp var for y\n",
    "def fibonacci(n):\n",
    "    x = 0\n",
    "    y = 1\n",
    "    for i in range(n):\n",
    "        # Risk of order is an issue here, common source of error\n",
    "        print x\n",
    "        t = y\n",
    "        y = x + y\n",
    "        x = t\n",
    "        \n",
    "# better way... using tuple packing/unpacking\n",
    "# Use old values of x and y\n",
    "def fibonacci(n):\n",
    "    x, y = 0, 1\n",
    "    for i in range(n):\n",
    "        print x\n",
    "        x, y = y, x + y"
   ]
  },
  {
   "cell_type": "markdown",
   "metadata": {},
   "source": [
    "### Concatenating strings:"
   ]
  },
  {
   "cell_type": "code",
   "execution_count": null,
   "metadata": {},
   "outputs": [],
   "source": [
    "names = ['raymond', 'rachel', 'matthew' 'Roger', 'Charlie', 'katie' 'raj', 'zhang', 'ping']\n",
    "\n",
    "# Don't do this...\n",
    "s = names[0]\n",
    "for name in names[1:]:\n",
    "    s += ', ' + name\n",
    "print s\n",
    "\n",
    "# Do this instead...\n",
    "print ', '.join(names)"
   ]
  },
  {
   "cell_type": "markdown",
   "metadata": {},
   "source": [
    "### Updating sequences:"
   ]
  },
  {
   "cell_type": "code",
   "execution_count": null,
   "metadata": {},
   "outputs": [],
   "source": [
    "names = ['raymond', 'rachel', 'matthew' 'Roger', 'Charlie', 'katie' 'raj', 'zhang', 'ping']\n",
    "\n",
    "# Wrong data structure used in all these instances is common:\n",
    "del names[0]\n",
    "names.pop(0)\n",
    "names.insert(0, 'mark')\n",
    "\n",
    "# Use this instad:\n",
    "names = deque(['raymond', 'rachel', 'matthew' 'Roger', 'Charlie', 'katie' 'raj', 'zhang', 'ping'])\n",
    "# With deque you can efficiently do the following:\n",
    "del names[0]\n",
    "names.popleft()\n",
    "names.appendleft('mark')"
   ]
  },
  {
   "cell_type": "markdown",
   "metadata": {},
   "source": [
    "## Decorators and Context Managers:\n",
    "- #### Using decorators to factor-out administrative logic\n",
    "\n"
   ]
  },
  {
   "cell_type": "code",
   "execution_count": null,
   "metadata": {},
   "outputs": [],
   "source": [
    "# business logic is opening a url and return a webpage\n",
    "# admin logic is caching in dictionary, so if you lookup a webpage over and over again\n",
    "# mixes bus and admin logic... not reusable\n",
    "def web_lookup(url, saved={}):\n",
    "    if url in saved:\n",
    "        return saved[url]\n",
    "    page = urllib.urlopen(url).read()\n",
    "    saved[url] = page\n",
    "    return page\n",
    "\n",
    "\n",
    "# The fix:\n",
    "# This is reusable\n",
    "@cache\n",
    "def web_lookup(url):\n",
    "    return urllib.urlopen(url).read()\n",
    "\n",
    "# Rewrite like this: Caching decorator\n",
    "# Fill your code with solutions like this, then you can add @cache elsewhere in your code and the problem is solved:\n",
    "def cache(func):\n",
    "    saved = {}\n",
    "    @wraps(func)\n",
    "    def newfunc(*args):\n",
    "        if args in saved:\n",
    "            return newfunc(*args)\n",
    "        result = func(*args)\n",
    "        saved[args] = result\n",
    "        return result\n",
    "    return newfunc"
   ]
  },
  {
   "cell_type": "markdown",
   "metadata": {},
   "source": [
    "### Factor-out temporary contexts for decimals:"
   ]
  },
  {
   "cell_type": "code",
   "execution_count": null,
   "metadata": {},
   "outputs": [],
   "source": [
    "# Saving the old, restoring the new\n",
    "old_context = getcontext().copy()\n",
    "getcontext().prec = 50\n",
    "print Decimal(355) / Decimal(133)\n",
    "setcontext(old_context)\n",
    "\n",
    "# Better way...\n",
    "# Repeatable logic:\n",
    "with localcontext(Context(prec=50)):\n",
    "    print Decimal(355) / Decimal(113)"
   ]
  },
  {
   "cell_type": "markdown",
   "metadata": {},
   "source": [
    "### How to open and close files:"
   ]
  },
  {
   "cell_type": "code",
   "execution_count": null,
   "metadata": {
    "collapsed": true
   },
   "outputs": [],
   "source": [
    "# Old way\n",
    "f = open('data.txt')\n",
    "try:\n",
    "    data = f.read()\n",
    "finally:\n",
    "    f.close()\n",
    "    \n",
    "# New way\n",
    "with open('data.txt') as if:\n",
    "    data = f.read()"
   ]
  },
  {
   "cell_type": "markdown",
   "metadata": {},
   "source": [
    "### How to use locks:"
   ]
  },
  {
   "cell_type": "code",
   "execution_count": null,
   "metadata": {},
   "outputs": [],
   "source": [
    "# Make a lock\n",
    "lock = threading.Lock()\n",
    "\n",
    "# Old-way to use a lock\n",
    "lock.acquire()\n",
    "try:\n",
    "    print 'critical section 1'\n",
    "    print 'critical section 2'\n",
    "finally:\n",
    "    lock.release()\n",
    "    \n",
    "# new-way to use a lock\n",
    "with lock:\n",
    "    print 'Critical section 1'\n",
    "    print 'Critical section 2'"
   ]
  },
  {
   "cell_type": "markdown",
   "metadata": {},
   "source": [
    "### Factor out temporary contexts:"
   ]
  },
  {
   "cell_type": "code",
   "execution_count": null,
   "metadata": {},
   "outputs": [],
   "source": [
    "try:\n",
    "    os.remove('somefile.tmp')\n",
    "except OSError:\n",
    "    pass\n",
    "\n",
    "# Another way to check if file exists in the first place\n",
    "\n",
    "# Here is a better way to ignore exceptions:\n",
    "with ignored(OSError):\n",
    "    os.remove('somefile.tmp')\n",
    "    \n",
    "    \n",
    "# *** TO USE ABOVE FUNCTION ***\n",
    "# Stick this in util directory\n",
    "@contextmanager\n",
    "def ignored(*exceptions):\n",
    "    try:\n",
    "        yield\n",
    "    except exceptions:\n",
    "        pass"
   ]
  },
  {
   "cell_type": "markdown",
   "metadata": {},
   "source": [
    "***"
   ]
  }
 ],
 "metadata": {
  "kernelspec": {
   "display_name": "Python 3",
   "language": "python",
   "name": "python3"
  },
  "language_info": {
   "codemirror_mode": {
    "name": "ipython",
    "version": 3
   },
   "file_extension": ".py",
   "mimetype": "text/x-python",
   "name": "python",
   "nbconvert_exporter": "python",
   "pygments_lexer": "ipython3",
   "version": "3.7.3"
  }
 },
 "nbformat": 4,
 "nbformat_minor": 2
}
