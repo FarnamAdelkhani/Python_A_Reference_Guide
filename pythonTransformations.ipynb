{
 "cells": [
  {
   "cell_type": "markdown",
   "metadata": {},
   "source": [
    "<h2 align=\"center\"><b><u>Python Code Transformations</u><br>\"When you see this, do that instead.\"</b></h2> \n",
    "<img src=\"images/pythonLogoPro.png\" alt=\"Drawing\" style=\"width: 250px;\"/><br>"
   ]
  },
  {
   "cell_type": "markdown",
   "metadata": {},
   "source": [
    "<center>\n",
    "    <b>-- Compiled by: Farnam Adelkhani --<br>Tips from talks by Python Core Developer, <u>Raymond Hettinger</u> for fast, clean, idiomatic code.</b><br>\n",
    "<b>Raymond's rule:</b> One logical line of code equals one sentence in English.\n",
    "</center>"
   ]
  },
  {
   "cell_type": "markdown",
   "metadata": {},
   "source": [
    "***"
   ]
  },
  {
   "cell_type": "markdown",
   "metadata": {},
   "source": [
    "<div class=\"alert alert-block alert-info\" style=\"text-align:center\"> <b>\n",
    "<a href=\"https://github.com/FarnamAdelkhani/Python_referenceGuide\" target=\"_blank\">Click here for Python Transformations Github Repo</a>\n",
    "</b><br>\n",
    "Please report issues and updates to the github repo above.<br>\n",
    "<b>Last update: May 2019</b></div>"
   ]
  },
  {
   "cell_type": "markdown",
   "metadata": {},
   "source": [
    "***"
   ]
  },
  {
   "cell_type": "markdown",
   "metadata": {},
   "source": [
    "<center><h4>When you see this, do that instead...</h4>\n",
    "<li>Replace traditional index manipulation with Python's core looping idioms.</li>\n",
    "<li>Learn advanced techniques with for-else clauses <b>and</b> the two argument form of iter().</li>\n",
    "<li>Improve your craftmanship and aim for clean, fast, idiomatic Python code.</li></center>"
   ]
  },
  {
   "cell_type": "markdown",
   "metadata": {},
   "source": [
    "***"
   ]
  },
  {
   "cell_type": "markdown",
   "metadata": {},
   "source": [
    "&nbsp;&nbsp;&nbsp;&nbsp;<img src=\"images/loops.png\" alt=\"Drawing\" style=\"height: 40px;\"/>"
   ]
  },
  {
   "cell_type": "markdown",
   "metadata": {},
   "source": [
    "<div class=\"alert alert-block alert-warning\"><b>Important Note on Loops:</b><br>\n",
    "<li>With python 3, xrange is no longer utilized.</li>\n",
    "<li>In Python, \"for\" is not equal to \"for\" in C ... \"for\" in Python is better thought of as \"for each\".</li></div>"
   ]
  },
  {
   "cell_type": "markdown",
   "metadata": {},
   "source": [
    "<h3><u>Looping over a range of numbers:</u></h3>"
   ]
  },
  {
   "cell_type": "code",
   "execution_count": null,
   "metadata": {},
   "outputs": [],
   "source": [
    "# Loop from 0 to 9:\n",
    "for i in [0, 1, 2, 3, 4, 5, 6, 7, 8, 9]:\n",
    "    # '**' can be used to raise some number x to a power y.\n",
    "    print(i**2)"
   ]
  },
  {
   "cell_type": "markdown",
   "metadata": {},
   "source": [
    "### >> Do this instead (better method):"
   ]
  },
  {
   "cell_type": "code",
   "execution_count": null,
   "metadata": {},
   "outputs": [],
   "source": [
    "for i in range(10):\n",
    "    print(i**2)"
   ]
  },
  {
   "cell_type": "markdown",
   "metadata": {},
   "source": [
    "***"
   ]
  },
  {
   "cell_type": "markdown",
   "metadata": {},
   "source": [
    "<h3><u>Looping over a range -- counting by 10s:</u></h3>"
   ]
  },
  {
   "cell_type": "code",
   "execution_count": null,
   "metadata": {},
   "outputs": [],
   "source": [
    "for i in range(0, 100, 10):\n",
    "    print(i)"
   ]
  },
  {
   "cell_type": "markdown",
   "metadata": {},
   "source": [
    "***"
   ]
  },
  {
   "cell_type": "markdown",
   "metadata": {},
   "source": [
    "[]: Used to define mutable data types - lists, list comprehensions and for indexing/lookup/slicing.<br>\n",
    "(): Define tuples, order of operations, generator expressions, function calls and other syntax.<br>\n",
    "{}: The two hash table types - dictionaries and sets."
   ]
  },
  {
   "cell_type": "markdown",
   "metadata": {},
   "source": [
    "<h3><u>Looping over a collection:</h3></u>"
   ]
  },
  {
   "cell_type": "code",
   "execution_count": null,
   "metadata": {},
   "outputs": [],
   "source": [
    "colors = ['red', 'green', 'blue', 'yellow']\n",
    "\n",
    "for i in range(len(colors)):\n",
    "    print(colors[i])"
   ]
  },
  {
   "cell_type": "markdown",
   "metadata": {},
   "source": [
    "### >> Do this instead (better method):"
   ]
  },
  {
   "cell_type": "code",
   "execution_count": null,
   "metadata": {},
   "outputs": [],
   "source": [
    "colors = ['red', 'green', 'blue', 'yellow']\n",
    "\n",
    "for color in colors:\n",
    "    print(color)"
   ]
  },
  {
   "cell_type": "markdown",
   "metadata": {},
   "source": [
    "<h3><u>Looping over a collection, backwards:</u></h3>"
   ]
  },
  {
   "cell_type": "code",
   "execution_count": null,
   "metadata": {},
   "outputs": [],
   "source": [
    "colors = ['red', 'green', 'blue', 'yellow']\n",
    "\n",
    "for i in range(len(colors)-1, -1, -1):\n",
    "    print(colors[i])"
   ]
  },
  {
   "cell_type": "markdown",
   "metadata": {},
   "source": [
    "### >> Do this instead (better method):"
   ]
  },
  {
   "cell_type": "code",
   "execution_count": null,
   "metadata": {},
   "outputs": [],
   "source": [
    "colors = ['red', 'green', 'blue', 'yellow']\n",
    "\n",
    "for color in reversed(colors):\n",
    "    print(color)"
   ]
  },
  {
   "cell_type": "markdown",
   "metadata": {},
   "source": [
    "<h3><u>Looping over a collection and indices:</h3></u>"
   ]
  },
  {
   "cell_type": "code",
   "execution_count": null,
   "metadata": {},
   "outputs": [],
   "source": [
    "colors = ['red', 'green', 'blue', 'yellow']\n",
    "\n",
    "for i in range(len(colors)):\n",
    "    print(i, '--->', colors[i])"
   ]
  },
  {
   "cell_type": "markdown",
   "metadata": {},
   "source": [
    "### >> Do this instead (better method):"
   ]
  },
  {
   "cell_type": "code",
   "execution_count": null,
   "metadata": {},
   "outputs": [],
   "source": [
    "colors = ['red', 'green', 'blue', 'yellow']\n",
    "\n",
    "for i, color in enumerate(colors):\n",
    "    print(i, '--->', color)"
   ]
  },
  {
   "cell_type": "markdown",
   "metadata": {},
   "source": [
    "<h3><u>Looping over two collections:</u></h3>"
   ]
  },
  {
   "cell_type": "code",
   "execution_count": null,
   "metadata": {},
   "outputs": [],
   "source": [
    "names = ['raymond', 'rachel', 'matthew']\n",
    "colors = ['red', 'green', 'blue', 'yellow']\n",
    "\n",
    "n = min(len(names), len(colors))\n",
    "for i in range(n):\n",
    "    print(names[i], '--->', colors[i])\n",
    "\n",
    "for name, color in zip(names, colors):\n",
    "    print(name, '--->', color)"
   ]
  },
  {
   "cell_type": "markdown",
   "metadata": {},
   "source": [
    "### >> Do this instead (better method):"
   ]
  },
  {
   "cell_type": "code",
   "execution_count": null,
   "metadata": {},
   "outputs": [],
   "source": [
    "names = ['raymond', 'rachel', 'matthew']\n",
    "colors = ['red', 'green', 'blue', 'yellow']\n",
    "\n",
    "# Note that izip is no longer available in Python 3.0, use zip instead:\n",
    "for name, color in zip(names, colors):\n",
    "    print(name, '--->', color)"
   ]
  },
  {
   "cell_type": "markdown",
   "metadata": {},
   "source": [
    "<h3><u>Looping in sorted order (Best Method):</u></h3>"
   ]
  },
  {
   "cell_type": "code",
   "execution_count": null,
   "metadata": {},
   "outputs": [],
   "source": [
    "colors = ['red', 'green', 'blue', 'yellow']\n",
    "\n",
    "# Forward sorted order\n",
    "for color in sorted(colors):\n",
    "    print(colors)\n",
    "\n",
    "# Backwards sorted order\n",
    "for color in sorted(colors, reverse=True):\n",
    "    print(colors)"
   ]
  },
  {
   "cell_type": "markdown",
   "metadata": {},
   "source": [
    "<h3><u>Custom Sort Order:</u></h3>"
   ]
  },
  {
   "cell_type": "code",
   "execution_count": null,
   "metadata": {},
   "outputs": [],
   "source": [
    "colors = ['red', 'green', 'blue', 'yellow']\n",
    "\n",
    "# Return -1,0,1 depending on lessThan,equal,greater\n",
    "def compare_length(c1, c2):\n",
    "    if len(c1) < len(c2): return -1\n",
    "    if len(c1) > len(c2): return 1\n",
    "    return 0\n",
    "\n",
    "# Old method\n",
    "#print sorted(colors, cmp=compare_length)\n",
    "\n",
    "# New method\n",
    "print(sorted(colors, key=len))\n",
    "\n",
    "# Old method = 20 million calls to function\n",
    "# New method = 1 million calls to function\n",
    "#\n",
    "# *Comparison functions do not exist in Python 3"
   ]
  },
  {
   "cell_type": "markdown",
   "metadata": {},
   "source": [
    "<h3><u>Call a function until a sentinel value:</u></h3>"
   ]
  },
  {
   "cell_type": "code",
   "execution_count": null,
   "metadata": {},
   "outputs": [],
   "source": [
    "# Looping over a function with a sentinel:\n",
    "# *Traditional method*\n",
    "#\n",
    "# Reading 32 bytes at a time, eventually run out of data...\n",
    "# ... then sentinel value is returned(ie. an empty string)\n",
    "# When empty string is returned, you break out the function\n",
    "blocks = []\n",
    "while True:\n",
    "    block = f.read(32)\n",
    "    if block == '':\n",
    "        break\n",
    "    blocks.append(block)"
   ]
  },
  {
   "cell_type": "markdown",
   "metadata": {},
   "source": [
    "### >> Do this instead (better method):"
   ]
  },
  {
   "cell_type": "code",
   "execution_count": null,
   "metadata": {},
   "outputs": [],
   "source": [
    "# iter function can take two arguments:\n",
    "# 1st - function that you repeatedly call\n",
    "# 2nd - sentinel value\n",
    "\n",
    "# Using a for loop makes this iterable! Magical...\n",
    "# now you can feed it to set, sorted, min, max, sum, etc\n",
    "# * Making something iterable, it works with the entire Python tool kit.\n",
    "blocks = []\n",
    "for block in iter(partial(f.read, 32), ''):\n",
    "    blocks.append(block)"
   ]
  },
  {
   "cell_type": "markdown",
   "metadata": {},
   "source": [
    "***"
   ]
  },
  {
   "cell_type": "markdown",
   "metadata": {},
   "source": [
    "<h3><u>Distinguishing multiple exit points in loops:</u></h3>"
   ]
  },
  {
   "cell_type": "code",
   "execution_count": null,
   "metadata": {},
   "outputs": [],
   "source": [
    "# Typical solution: Flag variables(like found = false...)\n",
    "# This slows your program down!\n",
    "\n",
    "# If target is true, change the flag and act on it at end:\n",
    "def find(seq, target):\n",
    "    found = false\n",
    "    for i, value in enumerate(seq):\n",
    "        if value == tgt:\n",
    "            found = True\n",
    "            break\n",
    "        if not found:\n",
    "            return -1\n",
    "        return i"
   ]
  },
  {
   "cell_type": "markdown",
   "metadata": {},
   "source": [
    "### >> Do this instead (better method):"
   ]
  },
  {
   "cell_type": "code",
   "execution_count": null,
   "metadata": {},
   "outputs": [],
   "source": [
    "# If finish look and don't encounter a break: return -1\n",
    "# If finish the loop normally: return i\n",
    "def find(seq, target):\n",
    "    for i, value in enumerate(seq):\n",
    "        if value == tgt:\n",
    "            break\n",
    "    # Call else: 'no break', you'd know what it did.\n",
    "    else:\n",
    "        return -1\n",
    "    return i"
   ]
  },
  {
   "cell_type": "markdown",
   "metadata": {},
   "source": [
    "***"
   ]
  },
  {
   "cell_type": "markdown",
   "metadata": {},
   "source": [
    "&nbsp;&nbsp;&nbsp;&nbsp;<img src=\"images/dictionaries.png\" alt=\"Drawing\" style=\"height: 40px;\"/>"
   ]
  },
  {
   "cell_type": "markdown",
   "metadata": {},
   "source": [
    "<li>Mastering dictionaries is a fundamental Python skill!</li>\n",
    "<li>Fundamental tool for expressing relationships, linking, counting, and grouping.</li>"
   ]
  },
  {
   "cell_type": "markdown",
   "metadata": {},
   "source": [
    "<h3><u>Looping of dictionary keys:</u></h3>"
   ]
  },
  {
   "cell_type": "code",
   "execution_count": null,
   "metadata": {},
   "outputs": [],
   "source": [
    "d = {'matthew:': 'blue', 'rachel': 'green', 'raymond': 'red'}\n",
    "\n",
    "for k in d:\n",
    "    print k"
   ]
  },
  {
   "cell_type": "markdown",
   "metadata": {},
   "source": [
    "### >> Do this instead (When you're mutating the dictionary):"
   ]
  },
  {
   "cell_type": "code",
   "execution_count": null,
   "metadata": {},
   "outputs": [],
   "source": [
    "# Treating a list as a dictionary...\n",
    "# ... the indices in a list are parrallel to the keys in a dictionary\n",
    "\n",
    "d = {'matthew:': 'blue', 'rachel': 'green', 'raymond': 'red'}\n",
    "\n",
    "# d.keys makes a copy of all the keys and stores them in a list:\n",
    "# ... then you can mutate the dictionary without consequence.\n",
    "for k in list(d.keys()):\n",
    "    if k.startswith('r'):\n",
    "        del d[k]"
   ]
  },
  {
   "cell_type": "markdown",
   "metadata": {},
   "source": [
    "`d.keys()` makes a copy of all the keys and stores them in a list. Then you can modify the dictionary. Note: in python 3 to iterate through a dictionary you have to explicitly write: `list(d.keys())` because `d.keys()` returns a \"dictionary view\" (an iterable that provide a dynamic view on the dictionary’s keys)."
   ]
  },
  {
   "cell_type": "markdown",
   "metadata": {},
   "source": [
    "<h3><u>Looping over a dictionary keys and values:</u></h3>"
   ]
  },
  {
   "cell_type": "code",
   "execution_count": null,
   "metadata": {},
   "outputs": [],
   "source": [
    "# Loop over key and look up value\n",
    "\n",
    "# slow: rehash every key and do a look up on it.\n",
    "for k in d:\n",
    "    print(k, '-->', d[k])\n",
    "\n",
    "# Better way if you need items\n",
    "for k, v in d.items():\n",
    "    print(k, '-->', v)"
   ]
  },
  {
   "cell_type": "markdown",
   "metadata": {},
   "source": [
    "### >> Do this instead (... but only in Python 2):  "
   ]
  },
  {
   "cell_type": "code",
   "execution_count": null,
   "metadata": {},
   "outputs": [],
   "source": [
    "# ** This was previously a better method, but no good in Python 3!  **\n",
    "# ** Just use 'items' in Python 3.>: **\n",
    "for k, v in d.iteritems():\n",
    "    print(k, '-->', v)"
   ]
  },
  {
   "cell_type": "markdown",
   "metadata": {},
   "source": [
    "**Python 2:** `iteritems()` is better as it returns an iterator.  \n",
    "**Python 3:** `iteritems()` has been deprecated and `items()` behaviour is close to what `iteritems()` had been in Python 2. "
   ]
  },
  {
   "cell_type": "markdown",
   "metadata": {},
   "source": [
    "<h3><u>Constructing a dictionary in pairs:</u></h3>"
   ]
  },
  {
   "cell_type": "code",
   "execution_count": null,
   "metadata": {},
   "outputs": [],
   "source": [
    "# ** izip does not exist in Python 3, use zip instead! **\n",
    "\n",
    "names = ['raymond', 'rachel', 'matthew']\n",
    "colors = ['red', 'green', 'blue']\n",
    "\n",
    "# Assemble these two lists into a dictionary using izip\n",
    "# Does not need to make a tuple at each iteration... \n",
    "# ... uses one tuple over and over again. This is fast!\n",
    "#\n",
    "d = dict(izip(names, colors))\n",
    "{'matthew': 'blue', 'rachel': 'green', 'raymond': 'red'}"
   ]
  },
  {
   "cell_type": "markdown",
   "metadata": {},
   "source": [
    "**For python 3:** Use: `d = dict(zip(names, colors))`"
   ]
  },
  {
   "cell_type": "markdown",
   "metadata": {},
   "source": [
    "<h3><u>Counting with dictionaries:</u></h3>"
   ]
  },
  {
   "cell_type": "code",
   "execution_count": null,
   "metadata": {
    "collapsed": true
   },
   "outputs": [],
   "source": [
    "# Most basic method: Looping over a dictionary\n",
    "#\n",
    "colors = ['red', 'green', 'blue', 'red', 'green', 'blue']\n",
    "\n",
    "# loop over the colors \n",
    "#    check if the color is there\n",
    "#       if it is not then add it\n",
    "d = {}\n",
    "for colors in colors:\n",
    "    if color not in d:\n",
    "        d[color] = 0\n",
    "    d[color] += 1\n",
    "    \n",
    "{'blue':1, 'green': 2, 'red': 3}"
   ]
  },
  {
   "cell_type": "markdown",
   "metadata": {},
   "source": [
    "### >> Do this instead (Simplify the code above to this):"
   ]
  },
  {
   "cell_type": "code",
   "execution_count": null,
   "metadata": {},
   "outputs": [],
   "source": [
    "colors = ['red', 'green', 'blue', 'red', 'green', 'blue']\n",
    "\n",
    "# loop over the colors \n",
    "#    Get the color\n",
    "#       if color is missing, return 0 and add 1 to it\n",
    "\n",
    "d = {}\n",
    "for color in colors:\n",
    "    d[color] = d.get(color, 0) + 1"
   ]
  },
  {
   "cell_type": "markdown",
   "metadata": {},
   "source": [
    "### >> A more modern method (advance):  \n",
    "`defaultdict()`: Not good for beginners with limited understanding...\n",
    "<ul>\n",
    "<b>Prerequisites to understanding defaultdict():</b>\n",
    "<ul>\n",
    "<li>Know how to import the collections</li>\n",
    "<li>Learn the distintions between a regular/default dictionary</li>\n",
    "<li>Know about factory functions</li>\n",
    "<li>`int` can be called with no arguements, producing the value '0'</li>\n",
    "<li>What you get back is no longer a dictionary, but a default dictionary</li>  \n",
    "<ul><li>... so it must be converted back for some use-cases</li>\n",
    "</ul>\n",
    "</ul>\n",
    "</ul>  \n",
    "\n",
    "Know and understand the above idioms before utilizing `defaultdict()`!"
   ]
  },
  {
   "cell_type": "code",
   "execution_count": null,
   "metadata": {},
   "outputs": [],
   "source": [
    "colors = ['red', 'green', 'blue', 'red', 'green', 'blue']\n",
    "\n",
    "d = defaultdict(int)\n",
    "for color in colors:\n",
    "    d[color] += 1"
   ]
  },
  {
   "cell_type": "markdown",
   "metadata": {},
   "source": [
    "***"
   ]
  },
  {
   "cell_type": "markdown",
   "metadata": {},
   "source": [
    "<h3><u>Grouping with dictionaries:</u></h3>"
   ]
  },
  {
   "cell_type": "code",
   "execution_count": null,
   "metadata": {},
   "outputs": [],
   "source": [
    "# Group by length of first names:\n",
    "names = ['raymond', 'rachel', 'matthew' 'Roger', \n",
    "         'Charlie', 'katie' 'raj', 'zhang', 'ping']\n",
    "\n",
    "# Traditional way, start with empty dictionary, the key is what we are grouping by.\n",
    "d = {}\n",
    "for name in names:\n",
    "    key = len(name)\n",
    "    if key not in d:\n",
    "        d[key] = []\n",
    "    d[key].append(name)"
   ]
  },
  {
   "cell_type": "markdown",
   "metadata": {},
   "source": [
    "### >> Do this instead (better method):"
   ]
  },
  {
   "cell_type": "code",
   "execution_count": null,
   "metadata": {},
   "outputs": [],
   "source": [
    "d = {}\n",
    "for name in names:\n",
    "    key = len(name)\n",
    "    d.setdefault(key, []).append(name)"
   ]
  },
  {
   "cell_type": "markdown",
   "metadata": {},
   "source": [
    "### >> Better yet... most modern method... do this!"
   ]
  },
  {
   "cell_type": "code",
   "execution_count": null,
   "metadata": {},
   "outputs": [],
   "source": [
    "d = defaultdict(list)\n",
    "for name in names:\n",
    "    key = len(name)\n",
    "    d[key].append(name)"
   ]
  },
  {
   "cell_type": "markdown",
   "metadata": {},
   "source": [
    "<h3><u>Pop Item:</u></h3>"
   ]
  },
  {
   "cell_type": "code",
   "execution_count": null,
   "metadata": {},
   "outputs": [],
   "source": [
    "# Is a dictionary popitem() atomic?\n",
    "#   popitem() removes an arbitrary item\n",
    "\n",
    "d = ['raymond': 'blue', 'rachel': 'red', 'matthew': 'pink']\n",
    "\n",
    "while d:\n",
    "    key, value = d.popitem()\n",
    "    print key, '-->', value"
   ]
  },
  {
   "cell_type": "markdown",
   "metadata": {},
   "source": [
    "`popitem` is atomic so you don't have to put locks around it to use it in threads."
   ]
  },
  {
   "cell_type": "markdown",
   "metadata": {},
   "source": [
    "***"
   ]
  },
  {
   "cell_type": "markdown",
   "metadata": {},
   "source": [
    "<h3><u>Linking dictionaries:</u></h3>"
   ]
  },
  {
   "cell_type": "code",
   "execution_count": null,
   "metadata": {},
   "outputs": [],
   "source": [
    "defaults = {'color': 'red', 'user': 'guest'}\n",
    "parser = argparse.ArgumentParser()\n",
    "parser.add_argument('-u', '--user')\n",
    "parser.add_argument('-c', '--color')\n",
    "namespace = parser.parse_args([])\n",
    "command_line_args = {k:v for k, v in vars(namespace).items() if v}\n",
    "\n",
    "# The common approach below allows you to use defaults at first, then override them\n",
    "# with environment variables and then finally override them with command line arguments.\n",
    "# It copies data like crazy, unfortunately. (Not fast!)\n",
    "d = defaults.copy()\n",
    "d.update(os.environ)\n",
    "d.update(command_line_args)\n",
    "\n",
    "# Environment variables take precedence over defaults."
   ]
  },
  {
   "cell_type": "code",
   "execution_count": null,
   "metadata": {},
   "outputs": [],
   "source": [
    "d = ChainMap(command_line_args, os.environ, defaults)"
   ]
  },
  {
   "cell_type": "markdown",
   "metadata": {},
   "source": [
    "`ChainMap` has been introduced into python 3. Fast and beautiful."
   ]
  },
  {
   "cell_type": "markdown",
   "metadata": {},
   "source": [
    "***"
   ]
  },
  {
   "cell_type": "markdown",
   "metadata": {},
   "source": [
    "<h3><u>Clarify function calls with keyword arguments:</u></h3>"
   ]
  },
  {
   "cell_type": "code",
   "execution_count": null,
   "metadata": {},
   "outputs": [],
   "source": [
    "# What does False and true mean?\n",
    "twitter_search('@obama', False, 20, True)"
   ]
  },
  {
   "cell_type": "markdown",
   "metadata": {},
   "source": [
    "### >> Do this instead (better method):"
   ]
  },
  {
   "cell_type": "code",
   "execution_count": null,
   "metadata": {},
   "outputs": [],
   "source": [
    "# Use keyword arguements... slows by microseconds but saves hours of programmer time.\n",
    "twitter_search('@obama', retweets=False, numtweets=20, popular=True)\n",
    "\n",
    "# ... Easy way to improve code quality like this.\n",
    "# Slows code slightly (microseconds) but saves hours of programming time."
   ]
  },
  {
   "cell_type": "markdown",
   "metadata": {},
   "source": [
    "***"
   ]
  },
  {
   "cell_type": "markdown",
   "metadata": {},
   "source": [
    "<h3><u>Clarify multiple return values with named tuples:</u></h3>"
   ]
  },
  {
   "cell_type": "code",
   "execution_count": null,
   "metadata": {},
   "outputs": [],
   "source": [
    "# Old testmod return value:\n",
    "doctest.testmod()\n",
    "(0, 4)\n",
    "# Is this good or bad? You don't know because it's not clear."
   ]
  },
  {
   "cell_type": "markdown",
   "metadata": {},
   "source": [
    "### >> Do this instead (better method):"
   ]
  },
  {
   "cell_type": "code",
   "execution_count": null,
   "metadata": {},
   "outputs": [],
   "source": [
    "# This provides clarity... named tuples are the same so this code runs the same.\n",
    "#\n",
    "# Improve your code base like this!\n",
    "doctest.testmod()\n",
    "TestResults(failed=0, attempted=4)\n",
    "\n",
    "TestResults = namedtuple('TestResults', ['failed', 'attempted'])"
   ]
  },
  {
   "cell_type": "markdown",
   "metadata": {},
   "source": [
    "***"
   ]
  },
  {
   "cell_type": "markdown",
   "metadata": {},
   "source": [
    "<h3><u>Unpacking sequences:</u></h3>"
   ]
  },
  {
   "cell_type": "code",
   "execution_count": null,
   "metadata": {},
   "outputs": [],
   "source": [
    "p = 'Raymond', 'Hettinger', 0x30, 'python@example.com'\n",
    "\n",
    "# Instead of this...\n",
    "fname = p[0]\n",
    "lname = p[1]\n",
    "age = p[2]\n",
    "email = p[3]\n",
    "\n",
    "# Do this instead! ... Easier to read and faster:\n",
    "fname, lname, age, email = p"
   ]
  },
  {
   "cell_type": "markdown",
   "metadata": {},
   "source": [
    "***"
   ]
  },
  {
   "cell_type": "markdown",
   "metadata": {},
   "source": [
    "<h3><u>Updating multiple/simultaneous state variables:</u></h3>"
   ]
  },
  {
   "cell_type": "code",
   "execution_count": null,
   "metadata": {},
   "outputs": [],
   "source": [
    "# Take a temp var for y\n",
    "#    add up new y\n",
    "#       then use temp variable\n",
    "def fibonacci(n):\n",
    "    x = 0\n",
    "    y = 1\n",
    "    for i in range(n):\n",
    "        # Risk of order is an issue here, common source of error\n",
    "        print x\n",
    "        t = y\n",
    "        y = x + y\n",
    "        x = t"
   ]
  },
  {
   "cell_type": "markdown",
   "metadata": {},
   "source": [
    "### >> Do this instead (better method):"
   ]
  },
  {
   "cell_type": "code",
   "execution_count": null,
   "metadata": {},
   "outputs": [],
   "source": [
    "# Using tuple packing/unpacking\n",
    "\n",
    "def fibonacci(n):\n",
    "    x, y = 0, 1\n",
    "    for i in range(n):\n",
    "        print x\n",
    "        x, y = y, x + y"
   ]
  },
  {
   "cell_type": "markdown",
   "metadata": {},
   "source": [
    "***"
   ]
  },
  {
   "cell_type": "markdown",
   "metadata": {},
   "source": [
    "<h3><u>Simultaneous state updates:</u></h3>"
   ]
  },
  {
   "cell_type": "code",
   "execution_count": null,
   "metadata": {},
   "outputs": [],
   "source": [
    "tmp_x = x + dx * t\n",
    "tmp_y = y + dy * t\n",
    "# NOTE: The \"influence\" function here is just an example function, \n",
    "#   what it does is not important. \n",
    "# The important part is how to manage updating multiple variables at once.\n",
    "tmp_dx = influence(m, x, y, dx, dy, partial='x')\n",
    "tmp_dy = influence(m, x, y, dx, dy, partial='y')\n",
    "x = tmp_x\n",
    "y = tmp_y\n",
    "dx = tmp_dx\n",
    "dy = tmp_dy"
   ]
  },
  {
   "cell_type": "markdown",
   "metadata": {},
   "source": [
    "### >> Do this instead (better method):"
   ]
  },
  {
   "cell_type": "code",
   "execution_count": null,
   "metadata": {},
   "outputs": [],
   "source": [
    "# NOTE: The \"influence\" function here is just an example function, what it does \n",
    "# is not important. The important part is how to manage updating multiple \n",
    "# variables at once.\n",
    "x, y, dx, dy = (x + dx * t,\n",
    "                y + dy * t,\n",
    "                influence(m, x, y, dx, dy, partial='x'),\n",
    "                influence(m, x, y, dx, dy, partial='y'))"
   ]
  },
  {
   "cell_type": "markdown",
   "metadata": {},
   "source": [
    "***"
   ]
  },
  {
   "cell_type": "markdown",
   "metadata": {},
   "source": [
    "&nbsp;&nbsp;&nbsp;&nbsp;<img src=\"images/efficiency.png\" alt=\"Drawing\" style=\"height: 40px;\"/>"
   ]
  },
  {
   "cell_type": "markdown",
   "metadata": {},
   "source": [
    "- An optimization fundamental rule\n",
    "- Don’t cause data to move around unnecessarily\n",
    "- It takes only a little care to avoid `O(n**2)` behavior instead of linear behavior\n",
    "\n",
    "**Raymond says:** Don't move data around unnecessarily."
   ]
  },
  {
   "cell_type": "markdown",
   "metadata": {},
   "source": [
    "<h3><u>Concatenating strings:</u></h3>"
   ]
  },
  {
   "cell_type": "code",
   "execution_count": null,
   "metadata": {},
   "outputs": [],
   "source": [
    "names = ['raymond', 'rachel', 'matthew' 'Roger', \n",
    "         'Charlie', 'katie' 'raj', 'zhang', 'ping']\n",
    "\n",
    "# Don't do this...\n",
    "s = names[0]\n",
    "for name in names[1:]:\n",
    "    s += ', ' + name\n",
    "print s\n",
    "\n",
    "# This is quadratic behavior, don't add strings in this way."
   ]
  },
  {
   "cell_type": "markdown",
   "metadata": {},
   "source": [
    "### >> Do this instead (better method):"
   ]
  },
  {
   "cell_type": "code",
   "execution_count": null,
   "metadata": {},
   "outputs": [],
   "source": [
    "names = ['raymond', 'rachel', 'matthew' 'Roger', \n",
    "         'Charlie', 'katie' 'raj', 'zhang', 'ping']\n",
    "\n",
    "# Do this instead, join them:\n",
    "print ', '.join(names)"
   ]
  },
  {
   "cell_type": "markdown",
   "metadata": {},
   "source": [
    "***"
   ]
  },
  {
   "cell_type": "markdown",
   "metadata": {},
   "source": [
    "<h3><u>Updating sequences:</u></h3>"
   ]
  },
  {
   "cell_type": "code",
   "execution_count": null,
   "metadata": {},
   "outputs": [],
   "source": [
    "names = ['raymond', 'rachel', 'matthew' 'Roger', \n",
    "         'Charlie', 'katie' 'raj', 'zhang', 'ping']\n",
    "\n",
    "# If you see anyone of these 3:\n",
    "# ... You're doing it wrong!\n",
    "del names[0]\n",
    "names.pop(0)\n",
    "names.insert(0, 'mark')"
   ]
  },
  {
   "cell_type": "markdown",
   "metadata": {},
   "source": [
    "### >> Do this instead (better method):"
   ]
  },
  {
   "cell_type": "code",
   "execution_count": null,
   "metadata": {},
   "outputs": [],
   "source": [
    "# Use this instad:\n",
    "names = collections.deque(['raymond', 'rachel', 'matthew' 'Roger', \n",
    "               'Charlie', 'katie' 'raj', 'zhang', 'ping'])\n",
    "\n",
    "# More efficient with collections.deque\n",
    "del names[0]\n",
    "names.popleft()\n",
    "names.appendleft('mark')"
   ]
  },
  {
   "cell_type": "markdown",
   "metadata": {},
   "source": [
    "### Grep for the above, replace, and quickly speed up a large code base!"
   ]
  },
  {
   "cell_type": "markdown",
   "metadata": {},
   "source": [
    "***"
   ]
  },
  {
   "cell_type": "markdown",
   "metadata": {},
   "source": [
    "&nbsp;&nbsp;&nbsp;&nbsp;<img src=\"images/decorators.png\" alt=\"Drawing\" style=\"height: 40px;\"/>"
   ]
  },
  {
   "cell_type": "markdown",
   "metadata": {},
   "source": [
    "<li>Helps separate business logic from administrative logic</li>\n",
    "<li>Clean, beautiful tools for factoring code and improving code reuse</li>\n",
    "<li>Good naming is essential.</li>\n",
    "<li>Remember the Spiderman rule: With great power, comes great responsibility!</li>"
   ]
  },
  {
   "cell_type": "code",
   "execution_count": null,
   "metadata": {},
   "outputs": [],
   "source": [
    "# business logic is opening a url and return a webpage\n",
    "#\n",
    "# admin logic is caching in dictionary, so if you lookup a... \n",
    "# ...webpage over and over again mixes bus and admin logic... not reusable\n",
    "def web_lookup(url, saved={}):\n",
    "    if url in saved:\n",
    "        return saved[url]\n",
    "    page = urllib.urlopen(url).read()\n",
    "    saved[url] = page\n",
    "    return page"
   ]
  },
  {
   "cell_type": "markdown",
   "metadata": {},
   "source": [
    "### >> The fix:"
   ]
  },
  {
   "cell_type": "code",
   "execution_count": null,
   "metadata": {},
   "outputs": [],
   "source": [
    "# Following is reusable:\n",
    "@cache\n",
    "def web_lookup(url):\n",
    "    return urllib.urlopen(url).read()"
   ]
  },
  {
   "cell_type": "markdown",
   "metadata": {},
   "source": [
    "### >> Rewrite like this: Caching decorator"
   ]
  },
  {
   "cell_type": "code",
   "execution_count": null,
   "metadata": {},
   "outputs": [],
   "source": [
    "# Fill your code with solutions like this, then you can add @cache elsewhere in your code and the problem is solved:\n",
    "def cache(func):\n",
    "    saved = {}\n",
    "    @wraps(func)\n",
    "    def newfunc(*args):\n",
    "        if args in saved:\n",
    "            return newfunc(*args)\n",
    "        result = func(*args)\n",
    "        saved[args] = result\n",
    "        return result\n",
    "    return newfunc"
   ]
  },
  {
   "cell_type": "markdown",
   "metadata": {},
   "source": [
    "**Note:** since python 3.2 there is a decorator for this in the standard library: `functools.lru_cache`."
   ]
  },
  {
   "cell_type": "markdown",
   "metadata": {},
   "source": [
    "***"
   ]
  },
  {
   "cell_type": "markdown",
   "metadata": {},
   "source": [
    "<h3><u>Factor-out temporary contexts for decimals:</u></h3>"
   ]
  },
  {
   "cell_type": "code",
   "execution_count": null,
   "metadata": {},
   "outputs": [],
   "source": [
    "# Saving the old, restoring the new\n",
    "#\n",
    "# Copy the context -> Change decimal precision to 50 -> \n",
    "#    -> Do a calculation -> Restore old context\n",
    "\n",
    "old_context = getcontext().copy()\n",
    "getcontext().prec = 50\n",
    "print Decimal(355) / Decimal(133)\n",
    "setcontext(old_context)"
   ]
  },
  {
   "cell_type": "markdown",
   "metadata": {},
   "source": [
    "### >> Better method (Repeatable logic):"
   ]
  },
  {
   "cell_type": "code",
   "execution_count": null,
   "metadata": {},
   "outputs": [],
   "source": [
    "# Anyone your context gets repeated in your code...\n",
    "#     you want a context manager to improve it\n",
    "\n",
    "with localcontext(Context(prec=50)):\n",
    "    print Decimal(355) / Decimal(113)"
   ]
  },
  {
   "cell_type": "markdown",
   "metadata": {},
   "source": [
    "***"
   ]
  },
  {
   "cell_type": "markdown",
   "metadata": {},
   "source": [
    "<h3><u>How to open and close files:</u></h3>"
   ]
  },
  {
   "cell_type": "markdown",
   "metadata": {},
   "source": [
    "### Old method:"
   ]
  },
  {
   "cell_type": "code",
   "execution_count": null,
   "metadata": {
    "collapsed": true
   },
   "outputs": [],
   "source": [
    "f = open('data.txt')\n",
    "try:\n",
    "    data = f.read()\n",
    "finally:\n",
    "    f.close()"
   ]
  },
  {
   "cell_type": "markdown",
   "metadata": {},
   "source": [
    "### >> New Method:"
   ]
  },
  {
   "cell_type": "code",
   "execution_count": null,
   "metadata": {},
   "outputs": [],
   "source": [
    "with open('data.txt') as f:\n",
    "    data = f.read()"
   ]
  },
  {
   "cell_type": "markdown",
   "metadata": {},
   "source": [
    "***"
   ]
  },
  {
   "cell_type": "markdown",
   "metadata": {},
   "source": [
    "<h3><u>How to use locks:</u></h3>"
   ]
  },
  {
   "cell_type": "markdown",
   "metadata": {},
   "source": [
    "### Old method:"
   ]
  },
  {
   "cell_type": "code",
   "execution_count": null,
   "metadata": {},
   "outputs": [],
   "source": [
    "# Make a lock the old way:\n",
    "lock = threading.Lock()\n",
    "\n",
    "# Old-way to use a lock\n",
    "lock.acquire()\n",
    "\n",
    "# You need to use try -> finally to release in case of an error:\n",
    "try:\n",
    "    print 'critical section 1'\n",
    "    print 'critical section 2'\n",
    "finally:\n",
    "    lock.release()"
   ]
  },
  {
   "cell_type": "markdown",
   "metadata": {},
   "source": [
    "### >> New method to use a lock:"
   ]
  },
  {
   "cell_type": "code",
   "execution_count": null,
   "metadata": {},
   "outputs": [],
   "source": [
    "with lock:\n",
    "    print 'Critical section 1'\n",
    "    print 'Critical section 2'"
   ]
  },
  {
   "cell_type": "markdown",
   "metadata": {},
   "source": [
    "***"
   ]
  },
  {
   "cell_type": "markdown",
   "metadata": {},
   "source": [
    "<h3><u>Factor out temporary contexts:</u></h3>"
   ]
  },
  {
   "cell_type": "code",
   "execution_count": null,
   "metadata": {},
   "outputs": [],
   "source": [
    "try:\n",
    "    os.remove('somefile.tmp')\n",
    "except OSError:\n",
    "    pass\n",
    "\n",
    "# Another way to check if file exists in the first place"
   ]
  },
  {
   "cell_type": "markdown",
   "metadata": {},
   "source": [
    "### >> Better:"
   ]
  },
  {
   "cell_type": "code",
   "execution_count": null,
   "metadata": {},
   "outputs": [],
   "source": [
    "# Here is a better way to ignore exceptions:\n",
    "with ignored(OSError):\n",
    "    os.remove('somefile.tmp')"
   ]
  },
  {
   "cell_type": "markdown",
   "metadata": {},
   "source": [
    "`ignored` is is new in python 3.4. Note: `ignored` is actually called `suppress` in the standard library.\n",
    "\n",
    "To make your own `ignored` context manager in the meantime:"
   ]
  },
  {
   "cell_type": "code",
   "execution_count": null,
   "metadata": {},
   "outputs": [],
   "source": [
    "# Stick this in util directory in order to ignore exceptions:\n",
    "@contextmanager\n",
    "def ignored(*exceptions):\n",
    "    try:\n",
    "        yield\n",
    "    except exceptions:\n",
    "        pass"
   ]
  },
  {
   "cell_type": "markdown",
   "metadata": {},
   "source": [
    "***"
   ]
  },
  {
   "cell_type": "markdown",
   "metadata": {},
   "source": [
    "&nbsp;&nbsp;&nbsp;&nbsp;<img src=\"images/objects.png\" alt=\"Drawing\" style=\"height: 40px;\"/>"
   ]
  },
  {
   "cell_type": "code",
   "execution_count": null,
   "metadata": {},
   "outputs": [],
   "source": [
    "# Method is another word for function\n",
    "object.method()"
   ]
  },
  {
   "cell_type": "code",
   "execution_count": null,
   "metadata": {},
   "outputs": [],
   "source": [
    "class Teams():\n",
    "    def __init__(name, city, region):\n",
    "        name.city = city\n",
    "        name.region = region\n",
    "        \n",
    "    def changeID(city, region):\n",
    "        city.region = region\n",
    "        \n",
    "    def print(name):\n",
    "        print(\"{} - {}\".format(name.city, name.region))"
   ]
  },
  {
   "cell_type": "code",
   "execution_count": null,
   "metadata": {},
   "outputs": [],
   "source": [
    "'''\n",
    "The code below allows us to write variables into your operating system as environment variables\n",
    "where your os will then safely store them away for later use/reference in your code.\n",
    "\n",
    "The open function opens a file and gives you a file object used to access the file's contents \n",
    "according to the specified modes.\n",
    "The \"w\" mode supplied in your example opens a file for reading, discarding any data previously \n",
    "in that file.\n",
    "'''\n",
    "\n",
    "fptr = open(os.environ['OUTPUT_PATH'], 'w')"
   ]
  },
  {
   "cell_type": "markdown",
   "metadata": {},
   "source": [
    "***"
   ]
  },
  {
   "cell_type": "markdown",
   "metadata": {},
   "source": [
    "<center><b>Prefer you report updates/bugs/issues/etc to the Github repo:</b><br>\n",
    "<a href=\"https://github.com/FarnamAdelkhani/Python_referenceGuide\" target=\"_blank\">github.com/FarnamAdelkhani/Python_referenceGuide</a></center><br>\n",
    "\n",
    "<center><b>Can also contact me on Linked[in]:</b><br>\n",
    "<a href=\"https://www.linkedin.com/in/farnamadelkhani/\" target=\"_blank\">https://www.linkedin.com/in/farnamadelkhani/</a></center><br><br>\n",
    "<img src=\"signature.jpg\" alt=\"Drawing\" style=\"width: 250px;\"/>"
   ]
  },
  {
   "cell_type": "markdown",
   "metadata": {},
   "source": [
    "***"
   ]
  }
 ],
 "metadata": {
  "kernelspec": {
   "display_name": "Python 3",
   "language": "python",
   "name": "python3"
  },
  "language_info": {
   "codemirror_mode": {
    "name": "ipython",
    "version": 3
   },
   "file_extension": ".py",
   "mimetype": "text/x-python",
   "name": "python",
   "nbconvert_exporter": "python",
   "pygments_lexer": "ipython3",
   "version": "3.7.1"
  }
 },
 "nbformat": 4,
 "nbformat_minor": 2
}
